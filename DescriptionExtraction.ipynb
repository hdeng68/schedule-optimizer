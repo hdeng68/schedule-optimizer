{
 "cells": [
  {
   "cell_type": "code",
   "execution_count": 27,
   "metadata": {},
   "outputs": [],
   "source": [
    "from rake_nltk import Rake\n",
    "import os\n",
    "import json\n",
    "\n",
    "cwd = os.getcwd()\n",
    "r = Rake()\n",
    "course_directory = cwd+'/course_info'\n",
    "all_course_info = os.listdir(course_directory)\n",
    "\n",
    "for c in all_course_info:\n",
    "    current_file = open(course_directory+'/'+c, 'r')\n",
    "    \n",
    "    raw_json = current_file.read()\n",
    "    parsed_json = json.loads(raw_json)\n",
    "    \n",
    "    desription = ''\n",
    "    display_name = ''\n",
    "    title = ''\n",
    "    \n",
    "    try:\n",
    "        description = parsed_json['course']['description'].replace(\"/\", \"\")\n",
    "        display_name = parsed_json['course']['displayName'].replace(\"/\",\"\")\n",
    "        title = parsed_json['course']['title'].replace(\"/\",\"\")\n",
    "    except KeyError:\n",
    "        continue\n",
    "    \n",
    "    #print(parsed_json['course']['displayName'])\n",
    "    #print(raw_json)\n",
    "    #print(description)\n",
    "    \n",
    "    r.extract_keywords_from_text(description)\n",
    "    #print(r.get_ranked_phrases())\n",
    "\n",
    "    f = open('course_keywords/'+display_name+\"-\"+title, 'w+')\n",
    "    \n",
    "    f.write(str(r.get_ranked_phrases()))\n",
    "    "
   ]
  },
  {
   "cell_type": "code",
   "execution_count": null,
   "metadata": {},
   "outputs": [],
   "source": []
  }
 ],
 "metadata": {
  "kernelspec": {
   "display_name": "Python 3",
   "language": "python",
   "name": "python3"
  },
  "language_info": {
   "codemirror_mode": {
    "name": "ipython",
    "version": 3
   },
   "file_extension": ".py",
   "mimetype": "text/x-python",
   "name": "python",
   "nbconvert_exporter": "python",
   "pygments_lexer": "ipython3",
   "version": "3.6.5"
  }
 },
 "nbformat": 4,
 "nbformat_minor": 2
}
